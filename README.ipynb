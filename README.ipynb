{
 "cells": [
  {
   "cell_type": "markdown",
   "id": "eb70a1e8",
   "metadata": {
    "collapsed": false,
    "jupyter": {
     "outputs_hidden": false
    }
   },
   "source": [
    "# Better READMEs with Jupyter Notebooks \n",
    "\n",
    "I'm going to make the pitch that README.ipynb files are better.\n",
    "\n",
    "So why?"
   ]
  },
  {
   "cell_type": "markdown",
   "id": "15978c33",
   "metadata": {},
   "source": [
    "## You can still keep your markdown\n",
    "\n",
    "Look, we're not giving up markdown totally works still. **For real**\n",
    "\n",
    "You can [link](https://www.youtube.com/watch?v=dQw4w9WgXcQ)\n",
    "\n",
    "- you \n",
    "- can\n",
    "- list\n",
    "\n",
    "It's all still here.\n",
    "\n",
    "You can just do other stuff."
   ]
  },
  {
   "cell_type": "markdown",
   "id": "74fc0870",
   "metadata": {
    "collapsed": false,
    "jupyter": {
     "outputs_hidden": false
    }
   },
   "source": [
    "## You can run code. \n",
    "\n",
    "This project uses uv. Which you [can install](https://docs.astral.sh/uv/getting-started/installation/#standalone-installer)"
   ]
  },
  {
   "cell_type": "markdown",
   "id": "c101ab65",
   "metadata": {},
   "source": [
    "### On a Mac"
   ]
  },
  {
   "cell_type": "code",
   "execution_count": null,
   "id": "5715d809",
   "metadata": {},
   "outputs": [],
   "source": [
    "!brew install uv"
   ]
  },
  {
   "cell_type": "markdown",
   "id": "561604e4",
   "metadata": {},
   "source": [
    "### On Linux"
   ]
  },
  {
   "cell_type": "code",
   "execution_count": null,
   "id": "1252a82e",
   "metadata": {},
   "outputs": [],
   "source": [
    "!pipx install uv"
   ]
  },
  {
   "cell_type": "markdown",
   "id": "69f7b721",
   "metadata": {},
   "source": [
    "### On Windows"
   ]
  },
  {
   "cell_type": "markdown",
   "id": "e242b8e1",
   "metadata": {},
   "source": [
    "*probably*"
   ]
  },
  {
   "cell_type": "markdown",
   "id": "5376f60d",
   "metadata": {},
   "source": [
    "###\n",
    "\n",
    "Avoid the copy-paste-into-the-shell dance\n"
   ]
  },
  {
   "cell_type": "markdown",
   "id": "22365b6a",
   "metadata": {},
   "source": [
    "\n",
    "## Code between languages\n",
    "\n",
    "It's a neat trick that you can pass data from shell to python"
   ]
  },
  {
   "cell_type": "code",
   "execution_count": 86,
   "id": "1c2fbf01",
   "metadata": {},
   "outputs": [
    {
     "data": {
      "text/plain": [
       "['.git',\n",
       " '.gitignore',\n",
       " 'doc',\n",
       " 'Dockerfile',\n",
       " 'logfile.log',\n",
       " 'project.clj',\n",
       " 'README.md',\n",
       " 'src',\n",
       " 'test']"
      ]
     },
     "execution_count": 86,
     "metadata": {},
     "output_type": "execute_result"
    }
   ],
   "source": [
    "local_files = !ls -a --color=never\n",
    "[f for f in local_files if not f.startswith('.') or f.startswith('.git')]"
   ]
  },
  {
   "cell_type": "markdown",
   "id": "3fb1716b",
   "metadata": {},
   "source": [
    "## Use secrets\n",
    "Query the use for secrets without putting them into the notebook, and set them into environment variales"
   ]
  },
  {
   "cell_type": "code",
   "execution_count": 54,
   "id": "61f6274c",
   "metadata": {},
   "outputs": [],
   "source": [
    "aws_profile = input(\"name of aws profile to use: \") # Let's pretend this is a secret, ok? I don't want to set up AWS keys."
   ]
  },
  {
   "cell_type": "markdown",
   "id": "c40636fc",
   "metadata": {},
   "source": [
    "That value is then available in shell scripts"
   ]
  },
  {
   "cell_type": "code",
   "execution_count": 56,
   "id": "64425a0a",
   "metadata": {
    "vscode": {
     "languageId": "shellscript"
    }
   },
   "outputs": [
    {
     "name": "stderr",
     "output_type": "stream",
     "text": [
      "6025.03s - pydevd: Sending message related to process being replaced timed-out after 5 seconds\n"
     ]
    },
    {
     "name": "stdout",
     "output_type": "stream",
     "text": [
      "2023-03-30 09:52:05 deploy-staging\n",
      "2025-06-06 20:33:00 just-my-links--application-bucket--dev\n",
      "2023-03-29 16:27:49 turtles-music\n"
     ]
    }
   ],
   "source": [
    "!aws s3 ls --profile $aws_profile | tail -n +2"
   ]
  },
  {
   "cell_type": "markdown",
   "id": "316514b8",
   "metadata": {},
   "source": [
    "or set the secret as an environment variable. Pass data back to python!"
   ]
  },
  {
   "cell_type": "code",
   "execution_count": 63,
   "id": "26994120",
   "metadata": {},
   "outputs": [
    {
     "name": "stdout",
     "output_type": "stream",
     "text": [
      "We have values: dict_keys(['UserId', 'Account', 'Arn'])\n",
      "First two f Account Id: 14\n"
     ]
    }
   ],
   "source": [
    "import os\n",
    "os.environ[\"AWS_PROFILE\"] = aws_profile\n",
    "about_me = !aws sts get-caller-identity\n",
    "about_me = json.loads(''.join(about_me))\n",
    "print(f\"We have values: {about_me.keys()}\")\n",
    "print(f\"First two f Account Id: {about_me['Account'][0:2]}\")"
   ]
  },
  {
   "cell_type": "markdown",
   "id": "d3dcf868",
   "metadata": {},
   "source": [
    "# Talk about real things with your respository"
   ]
  },
  {
   "cell_type": "markdown",
   "id": "58ac390a",
   "metadata": {},
   "source": [
    "### Obligatory AI demo!"
   ]
  },
  {
   "cell_type": "code",
   "execution_count": 64,
   "id": "d2cc722c",
   "metadata": {},
   "outputs": [
    {
     "name": "stderr",
     "output_type": "stream",
     "text": [
      "7322.50s - pydevd: Sending message related to process being replaced timed-out after 5 seconds\n"
     ]
    },
    {
     "name": "stdout",
     "output_type": "stream",
     "text": [
      "This project has a short 3-day history starting July 24, 2025:\n",
      "\n",
      "**Day 1 (2025-07-24):** Initial project creation with \"basic mess\" - set up Flask web app structure with models, forms, templates, and configuration files.\n",
      "\n",
      "**Day 2 (2025-07-25):** Added cross-language investigation using Jupyter notebook, expanding the README.ipynb significantly.\n",
      "\n",
      "**Day 3 (2025-07-25):** Major documentation update focusing on shell script variable passing, with substantial README.ipynb improvements (405 additions, 189 deletions).\n",
      "\n",
      "The project appears to be exploring cross-language programming concepts, particularly around shell scripting, using both a Flask web application and Jupyter notebooks for documentation and experimentation.\n",
      "\u001b[?25h\u001b[?25h"
     ]
    }
   ],
   "source": [
    "!claude -p \"Examine the history of this git repo. Give me some insights of the project timeline.\""
   ]
  },
  {
   "cell_type": "markdown",
   "id": "a09633b2",
   "metadata": {},
   "source": [
    "## Code analysis\n",
    "\n",
    "We need a juicier repo anyways. Lets grab this repo of awesome git history analysis tools."
   ]
  },
  {
   "cell_type": "code",
   "execution_count": null,
   "id": "120363c0",
   "metadata": {
    "vscode": {
     "languageId": "shellscript"
    }
   },
   "outputs": [
    {
     "name": "stderr",
     "output_type": "stream",
     "text": [
      "10787.99s - pydevd: Sending message related to process being replaced timed-out after 5 seconds\n"
     ]
    }
   ],
   "source": [
    "!git clone --quiet git@github.com:togakangaroo/code-maat.git /tmp/code-maat "
   ]
  },
  {
   "cell_type": "code",
   "execution_count": 68,
   "id": "a65f3d11",
   "metadata": {},
   "outputs": [],
   "source": [
    "%%capture\n",
    "%pushd .\n",
    "%pushd /tmp/code-maat/"
   ]
  },
  {
   "cell_type": "markdown",
   "id": "c02dbafa",
   "metadata": {},
   "source": [
    "We can now build their docker container"
   ]
  },
  {
   "cell_type": "code",
   "execution_count": 71,
   "id": "27df2f28",
   "metadata": {},
   "outputs": [
    {
     "name": "stderr",
     "output_type": "stream",
     "text": [
      "12274.99s - pydevd: Sending message related to process being replaced timed-out after 5 seconds\n"
     ]
    },
    {
     "name": "stdout",
     "output_type": "stream",
     "text": [
      "sha256:6736f41e125456db062ee34281baa83ef350941de021975d9203f18fa4e2d299\n"
     ]
    }
   ],
   "source": [
    "!docker build -q -t code-maat-app ."
   ]
  },
  {
   "cell_type": "markdown",
   "id": "62541ad7",
   "metadata": {},
   "source": [
    "Code Maat will do deep analysis on your git history so lets first emit the code history"
   ]
  },
  {
   "cell_type": "code",
   "execution_count": 77,
   "id": "71b67e4b",
   "metadata": {},
   "outputs": [
    {
     "name": "stderr",
     "output_type": "stream",
     "text": [
      "12949.67s - pydevd: Sending message related to process being replaced timed-out after 5 seconds\n"
     ]
    }
   ],
   "source": [
    "!git log --pretty=format:'[%h] %aN %ad %s' --date=short --numstat --after=2005-01-01 > logfile.log"
   ]
  },
  {
   "cell_type": "markdown",
   "id": "513be77a",
   "metadata": {},
   "source": [
    "So now lets get some reports"
   ]
  },
  {
   "cell_type": "code",
   "execution_count": 80,
   "id": "237d562c",
   "metadata": {},
   "outputs": [
    {
     "name": "stderr",
     "output_type": "stream",
     "text": [
      "13122.23s - pydevd: Sending message related to process being replaced timed-out after 5 seconds\n"
     ]
    },
    {
     "name": "stdout",
     "output_type": "stream",
     "text": [
      "statistic,value\n",
      "number-of-commits,334\n",
      "number-of-entities,106\n",
      "number-of-entities-changed,791\n",
      "number-of-authors,24\n",
      "\n"
     ]
    },
    {
     "name": "stderr",
     "output_type": "stream",
     "text": [
      "13128.85s - pydevd: Sending message related to process being replaced timed-out after 5 seconds\n"
     ]
    },
    {
     "name": "stdout",
     "output_type": "stream",
     "text": [
      "entity,n-authors,n-revs\n",
      "README.md,16,65\n",
      "src/code_maat/app/app.clj,3,62\n",
      "src/code_maat/parsers/git.clj,3,28\n",
      "src/code_maat/cmd_line.clj,3,26\n",
      "src/code_maat/parsers/hiccup_based_parser.clj,3,20\n",
      "src/code_maat/parsers/tfs.clj,3,10\n",
      "src/code_maat/analysis/math.clj,3,8\n",
      "src/code_maat/parsers/perforce.clj,3,6\n",
      "Dockerfile,3,4\n",
      "test/code_maat/end_to_end/scenario_tests.clj,2,39\n",
      "src/code_maat/analysis/logical_coupling.clj,2,38\n",
      "src/code_maat/parsers/svn.clj,2,25\n",
      "test/code_maat/parsers/git_test.clj,2,21\n",
      "src/code_maat/analysis/authors.clj,2,18\n",
      "src/code_maat/analysis/churn.clj,2,15\n",
      "test/code_maat/analysis/churn_test.clj,2,14\n",
      ".gitignore,2,10\n",
      "src/code_maat/analysis/code_age.clj,2,10\n",
      "test/code_maat/parsers/tfs_test.clj,2,8\n",
      "src/code_maat/analysis/coupling_algos.clj,2,7\n",
      "src/code_maat/analysis/effort.clj,2,7\n",
      "test/code_maat/end_to_end/churn_scenario_test.clj,2,7\n",
      "src/code_maat/analysis/sum_of_coupling.clj,2,6\n",
      "src/code_maat/analysis/communication.clj,2,5\n",
      "src/code_maat/analysis/commit_messages.clj,2,5\n",
      "test/code_maat/parsers/mercurial_test.clj,2,5\n",
      "src/code_maat/app/grouper.clj,2,5\n",
      "src/code_maat/analysis/summary.clj,2,4\n",
      "src/code_maat/parsers/limitters.clj,2,4\n",
      "test/code_maat/app/grouper_test.clj,2,4\n",
      "test/code_maat/parsers/perforce_test.clj,2,4\n",
      ".travis.yml,2,4\n",
      "test/code_maat/dataset/dataset_test.clj,2,4\n",
      "src/code_maat/parsers/xml.clj,2,3\n",
      "src/code_maat/test/data_driven.clj,2,3\n",
      "test/code_maat/end_to_end/roslyn_git.log,2,2\n",
      "src/code_maat/parsers/time_parser.clj,2,2\n",
      "project.clj,1,75\n",
      "src/code_maat/core.clj,1,26\n",
      "test/code_maat/analysis/logical_coupling_test.clj,1,18\n",
      "test/code_maat/parsers/svn_test.clj,1,13\n",
      "test/code_maat/analysis/authors_test.clj,1,9\n",
      "src/code_maat/parsers/mercurial.clj,1,9\n",
      "test/code_maat/analysis/test_data.clj,1,9\n",
      "src/code_maat/analysis/entities.clj,1,8\n",
      "src/code_maat/app/layer_mapper.clj,1,8\n",
      "test/code_maat/analysis/effort_test.clj,1,6\n",
      "test/code_maat/analysis/code_age_test.clj,1,5\n",
      "test/code_maat/analysis/entities_test.clj,1,5\n",
      "src/code_maat/dataset/dataset.clj,1,5\n",
      "src/code_maat/app/time_based_grouper.clj,1,4\n",
      "src/code_maat/output/csv.clj,1,4\n",
      "test/code_maat/app/layer_mapper_test.clj,1,3\n",
      "test/code_maat/end_to_end/git2_live_data_test_with_group.clj,1,3\n",
      "src/code_maat/output/filters.clj,1,3\n",
      "test/code_maat/app/time_based_grouper_test.clj,1,3\n",
      "test/code_maat/analysis/sum_of_coupling_test.clj,1,3\n",
      "test/code_maat/end_to_end/simple_git.txt,1,3\n",
      "test/code_maat/end_to_end/sample_p4.log,1,2\n",
      "test/code_maat/analysis/commit_messages_test.clj,1,2\n",
      "src/code_maat/analysis/workarounds.clj,1,2\n",
      "src/code_maat/parsers/git2.clj,1,2\n",
      "test/code_maat/end_to_end/svn_live_data_test.clj,1,2\n",
      "test/code_maat/end_to_end/git_live_data_test.clj,1,2\n",
      "doc/imgs/crime_cover.jpg,1,2\n",
      "test/code_maat/end_to_end/simple.xml,1,2\n",
      "test/code_maat/end_to_end/mono_git.log,1,2\n",
      "test/code_maat/analysis/communication_test.clj,1,2\n",
      "test/code_maat/end_to_end/simple_p4.txt,1,2\n",
      "test/code_maat/end_to_end/tfs.log,1,2\n",
      "test/code_maat/end_to_end/mercurial_live_data_test.clj,1,2\n",
      "test/code_maat/end_to_end/text-layers-definition.txt,1,1\n",
      "test/code_maat/end_to_end/tpp_hg.log,1,1\n",
      "test/code_maat/app/time_based_end_to_end_test.clj,1,1\n",
      "test/code_maat/app/{layer_mapper_test.clj => grouper_test.clj},1,1\n",
      "test/code_maat/app/team_mapper_test.clj,1,1\n",
      "test/code_maat/app/{time_based_grouper_test.clj => time_based_end_to_end_test.clj},1,1\n",
      "test/code_maat/analysis/math_test.clj,1,1\n",
      "test/code_maat/end_to_end/perforce_live_data_test.clj,1,1\n",
      "test/code_maat/end_to_end/empty.hg,1,1\n",
      "test/code_maat/end_to_end/regex-layers-definition.txt,1,1\n",
      "test/code_maat/end_to_end/empty.xml,1,1\n",
      "test/code_maat/end_to_end/empty.p4,1,1\n",
      "test/code_maat/end_to_end/team_level_analyses_test.clj,1,1\n",
      "test/code_maat/analysis/coupling_algos_test.clj,1,1\n",
      "test/code_maat/end_to_end/mono_git_team_map.csv,1,1\n",
      "doc/imgs/code_age_sample.png,1,1\n",
      "test/code_maat/end_to_end/simple_hg.txt,1,1\n",
      "test/code_maat/end_to_end/tfs_live_data_test.clj,1,1\n",
      "test/code_maat/tools/test_tools.clj,1,1\n",
      "test/code_maat/app/day_coupled_entities_git.txt,1,1\n",
      "src/code_maat/{core.clj => cmd_line.clj},1,1\n",
      ".mailmap,1,1\n",
      "test/code_maat/parsers/time_parser_test.clj,1,1\n",
      "doc/imgs/tree_map_sample.png,1,1\n",
      "doc/imgs/abs_churn_sample.png,1,1\n",
      "doc/imgs/coupling_sample.png,1,1\n",
      "src/code_maat/app/team_mapper.clj,1,1\n",
      "doc/intro.md,1,1\n",
      "test/code_maat/app/cmd_line_test.clj,1,1\n",
      "test/code_maat/parsers/git2_test.clj,1,1\n",
      "test/code_maat/end_to_end/empty.git,1,1\n",
      "test/code_maat/end_to_end/simple_git2.txt,1,1\n",
      "test/code_maat/end_to_end/git2_live_data_test.clj,1,1\n",
      "test/code_maat/end_to_end/statsvn.log,1,1\n",
      "test/code_maat/end_to_end/regex-and-text-layers-definition.txt,1,1\n",
      "\n"
     ]
    },
    {
     "name": "stderr",
     "output_type": "stream",
     "text": [
      "13135.41s - pydevd: Sending message related to process being replaced timed-out after 5 seconds\n"
     ]
    },
    {
     "name": "stdout",
     "output_type": "stream",
     "text": [
      "author,added,deleted,commits\n",
      "Adam Tornhill,18205,3476,275\n",
      "Alessio Izzo,2,2,1\n",
      "Andrea Crotti,22,1,3\n",
      "Felipe Knorr Kuhn,4,1,2\n",
      "George Mauer,3,2,1\n",
      "Hayden Barnes,1,1,1\n",
      "Hilbrand Bouwkamp,16,1,1\n",
      "Jan St?pie?,62,76,5\n",
      "John-Philip Johansson,3,3,1\n",
      "Katrin Leinweber,5,5,1\n",
      "Matthias Nehlsen,1,1,1\n",
      "Meraioth Ulloa Salazar,7,7,1\n",
      "Michael Hunter,2,0,1\n",
      "Nicolaj Gr?sholt,1,1,1\n",
      "Ola Flisb?ck,9,2,1\n",
      "Oleg Grytsynevych,25,0,1\n",
      "Ryan Coy,25,1,1\n",
      "Silvio Montanari,228,83,4\n",
      "Stefan Boos,2,2,2\n",
      "Tim Chambers,1,1,1\n",
      "Tomasz Janiszewski,27,28,1\n",
      "laenas,409,32,17\n",
      "robertc,289,76,3\n",
      "?????????? ?????,74,87,8\n",
      "\n"
     ]
    },
    {
     "name": "stderr",
     "output_type": "stream",
     "text": [
      "13141.89s - pydevd: Sending message related to process being replaced timed-out after 5 seconds\n"
     ]
    },
    {
     "name": "stdout",
     "output_type": "stream",
     "text": [
      "entity,coupled,degree,average-revs\n",
      "src/code_maat/analysis/effort.clj,test/code_maat/analysis/effort_test.clj,92,7\n",
      "src/code_maat/analysis/churn.clj,test/code_maat/analysis/churn_test.clj,89,15\n",
      "src/code_maat/parsers/git.clj,test/code_maat/parsers/git_test.clj,77,25\n",
      "src/code_maat/analysis/entities.clj,test/code_maat/analysis/entities_test.clj,76,7\n",
      "src/code_maat/analysis/coupling_algos.clj,src/code_maat/analysis/sum_of_coupling.clj,76,7\n",
      "src/code_maat/parsers/svn.clj,test/code_maat/parsers/svn_test.clj,68,19\n",
      "src/code_maat/analysis/authors.clj,test/code_maat/analysis/authors_test.clj,66,14\n",
      "src/code_maat/parsers/tfs.clj,test/code_maat/parsers/tfs_test.clj,66,9\n",
      "src/code_maat/analysis/logical_coupling.clj,test/code_maat/analysis/logical_coupling_test.clj,60,28\n",
      "test/code_maat/analysis/churn_test.clj,test/code_maat/end_to_end/churn_scenario_test.clj,57,11\n",
      "test/code_maat/analysis/authors_test.clj,test/code_maat/analysis/test_data.clj,55,9\n",
      "src/code_maat/analysis/churn.clj,test/code_maat/end_to_end/churn_scenario_test.clj,54,11\n",
      "src/code_maat/parsers/hiccup_based_parser.clj,test/code_maat/parsers/git_test.clj,43,21\n",
      "src/code_maat/parsers/hiccup_based_parser.clj,src/code_maat/parsers/mercurial.clj,41,15\n",
      "src/code_maat/analysis/authors.clj,src/code_maat/analysis/entities.clj,38,13\n",
      "src/code_maat/parsers/git.clj,src/code_maat/parsers/mercurial.clj,37,19\n",
      "src/code_maat/analysis/authors.clj,test/code_maat/analysis/test_data.clj,37,14\n",
      "src/code_maat/app/app.clj,src/code_maat/core.clj,36,44\n",
      "src/code_maat/app/app.clj,test/code_maat/end_to_end/scenario_tests.clj,35,51\n",
      "src/code_maat/core.clj,test/code_maat/end_to_end/scenario_tests.clj,33,33\n",
      "src/code_maat/parsers/git.clj,src/code_maat/parsers/hiccup_based_parser.clj,33,24\n",
      "src/code_maat/parsers/mercurial.clj,test/code_maat/parsers/git_test.clj,33,15\n",
      "src/code_maat/analysis/authors.clj,src/code_maat/core.clj,31,22\n"
     ]
    }
   ],
   "source": [
    "!docker run -v \"$(pwd):/data\" -it code-maat-app -l /data/logfile.log -c git -a summary\n",
    "print(\"\")\n",
    "!docker run -v \"$(pwd):/data\" -it code-maat-app -l /data/logfile.log -c git -a authors\n",
    "print(\"\")\n",
    "!docker run -v \"$(pwd):/data\" -it code-maat-app -l /data/logfile.log -c git -a author-churn\n",
    "print(\"\")\n",
    "!docker run -v \"$(pwd):/data\" -it code-maat-app -l /data/logfile.log -c git -a coupling"
   ]
  },
  {
   "cell_type": "markdown",
   "id": "069b84d0",
   "metadata": {},
   "source": [
    "Lets do one more ai thing, you know, to help onboardiing."
   ]
  },
  {
   "cell_type": "code",
   "execution_count": 87,
   "id": "7ef17dcb",
   "metadata": {},
   "outputs": [],
   "source": [
    "code_maat_architecture_mmd = !claude -p \"Examine this codebase and generate mermaid diagram for the high level architecture. Just return the raw mermaid markup without any explanation or backticks.\""
   ]
  },
  {
   "cell_type": "code",
   "execution_count": 93,
   "id": "1b6f1a46",
   "metadata": {},
   "outputs": [],
   "source": [
    "%%capture\n",
    "%popd"
   ]
  },
  {
   "cell_type": "code",
   "execution_count": 96,
   "id": "6d20845f",
   "metadata": {},
   "outputs": [],
   "source": [
    "with open('code-maat-architecture.mmd', 'w') as f:\n",
    "    f.write(\"\\n\".join(code_maat_architecture_mmd))"
   ]
  },
  {
   "cell_type": "markdown",
   "id": "a5083f40",
   "metadata": {},
   "source": [
    "So [and now check-it-out](./code-maat-architecture.mmd)"
   ]
  },
  {
   "cell_type": "markdown",
   "id": "442e60f0",
   "metadata": {},
   "source": [
    "## You can have LLMs help\n",
    "\n",
    "LLMs wrote this stuff when asked to add examples of useful things that should go in this notebook"
   ]
  },
  {
   "cell_type": "code",
   "execution_count": 97,
   "id": "49a45a85",
   "metadata": {
    "collapsed": false,
    "jupyter": {
     "outputs_hidden": false
    }
   },
   "outputs": [
    {
     "name": "stdout",
     "output_type": "stream",
     "text": [
      "📊 Git Repository Status:\n",
      "   Branch: main\n",
      "   Last Commit: 193d628 code-maat examples\n"
     ]
    }
   ],
   "source": [
    "# Show git status and recent changes\n",
    "import subprocess\n",
    "import os\n",
    "\n",
    "def get_git_info():\n",
    "    \"\"\"Get git repository information\"\"\"\n",
    "    try:\n",
    "        # Get current branch\n",
    "        branch = subprocess.check_output(['git', 'branch', '--show-current'], \n",
    "                                       text=True, stderr=subprocess.DEVNULL).strip()\n",
    "        \n",
    "        # Get last commit\n",
    "        last_commit = subprocess.check_output(['git', 'log', '-1', '--oneline'], \n",
    "                                            text=True, stderr=subprocess.DEVNULL).strip()\n",
    "        \n",
    "        print(\"📊 Git Repository Status:\")\n",
    "        print(f\"   Branch: {branch}\")\n",
    "        print(f\"   Last Commit: {last_commit}\")\n",
    "        \n",
    "    except (subprocess.CalledProcessError, FileNotFoundError):\n",
    "        print(\"📁 Not a git repository or git not available\")\n",
    "\n",
    "get_git_info()"
   ]
  },
  {
   "cell_type": "markdown",
   "id": "86a39a94",
   "metadata": {
    "collapsed": false,
    "jupyter": {
     "outputs_hidden": false
    }
   },
   "source": [
    "## 🎯 Key Advantages Summary\n",
    "\n",
    "| Feature | README.md | README.ipynb |\n",
    "|---------|-----------|--------------|\n",
    "| **Code Execution** | ❌ Static | ✅ Interactive |\n",
    "| **Visualizations** | ❌ Static images | ✅ Dynamic charts |\n",
    "| **Data Examples** | ❌ Outdated | ✅ Live data |\n",
    "| **Tutorials** | ❌ Copy-paste | ✅ Run in place |\n",
    "| **Auto-generation** | ❌ Manual | ✅ Programmatic |\n",
    "| **Rich Media** | ❌ Limited | ✅ Full support |\n",
    "| **Version Control** | ✅ Good | ✅ Better (code+docs) |\n",
    "\n",
    "## 📝 Best Practices\n",
    "\n",
    "- Keep code cells focused and well-documented\n",
    "- Use markdown cells for explanations\n",
    "- Include error handling in examples\n",
    "- Make outputs reproducible\n",
    "- Version control the notebook with your code\n",
    "\n",
    "---\n",
    "\n",
    "*This README.ipynb demonstrates the power of interactive documentation. Every time you open this file, you get fresh, up-to-date information about your project!* ✨"
   ]
  },
  {
   "cell_type": "markdown",
   "id": "live-todo-data",
   "metadata": {
    "collapsed": false,
    "jupyter": {
     "outputs_hidden": false
    }
   },
   "source": [
    "## Actually interact with your codebase\n",
    "\n",
    "If you use a kernel [in the same language](https://github.com/ml-tooling/best-of-jupyter?tab=readme-ov-file#jupyter-kernels) (also [Deno has one](https://docs.deno.com/runtime/reference/cli/jupyter/)) you can show how to do things by interactin with your code directly"
   ]
  },
  {
   "cell_type": "code",
   "execution_count": 99,
   "id": "todo-data-display",
   "metadata": {
    "collapsed": false,
    "jupyter": {
     "outputs_hidden": false
    }
   },
   "outputs": [
    {
     "name": "stdout",
     "output_type": "stream",
     "text": [
      "🔥 Latest 20 Todo Items:\n",
      "==================================================\n",
      " 1. ✅ it should be possible to change status without clicking into a list item\n",
      "    Status: DONE\n",
      "    List: build out my app\n",
      "    Created: 2025-07-25 03:11:48\n",
      "\n",
      " 2. 🔄 we don't need a view end edit mode for the list. lets combine them\n",
      "    Status: IN_PROGRESS\n",
      "    List: build out my app\n",
      "    Created: 2025-07-25 03:10:57\n",
      "\n",
      " 3. ✅ create an overview of item statuses on the home page that aggregates across all lists\n",
      "    Status: DONE\n",
      "    List: build out my app\n",
      "    Created: 2025-07-25 03:09:47\n",
      "\n"
     ]
    }
   ],
   "source": [
    "# Import our Flask app and models to access the database\n",
    "import sys\n",
    "import os\n",
    "\n",
    "# Add current directory to path so we can import our modules\n",
    "sys.path.insert(0, os.getcwd())\n",
    "\n",
    "try:\n",
    "    from app import app\n",
    "    from models import TodoItem\n",
    "    \n",
    "    # Create application context to access the database\n",
    "    with app.app_context():\n",
    "        # Get the latest 20 todo items ordered by creation date (newest first)\n",
    "        latest_items = TodoItem.query.order_by(TodoItem.created_at.desc()).limit(20).all()\n",
    "        \n",
    "        if latest_items:\n",
    "            print(\"🔥 Latest 20 Todo Items:\")\n",
    "            print(\"=\" * 50)\n",
    "            \n",
    "            for i, item in enumerate(latest_items, 1):\n",
    "                # Get status emoji\n",
    "                status_emoji = {\n",
    "                    'TODO': '⏳',\n",
    "                    'IN_PROGRESS': '🔄', \n",
    "                    'DONE': '✅'\n",
    "                }.get(item.status, '❓')\n",
    "                \n",
    "                print(f\"{i:2d}. {status_emoji} {item.title}\")\n",
    "                print(f\"    Status: {item.status}\")\n",
    "                print(f\"    List: {item.todo_list.name}\")\n",
    "                print(f\"    Created: {item.created_at.strftime('%Y-%m-%d %H:%M:%S')}\")\n",
    "                print()\n",
    "        else:\n",
    "            print(\"📝 No todo items found in the database.\")\n",
    "            print(\"💡 Run the Flask app and add some items to see them here!\")\n",
    "            \n",
    "except ImportError as e:\n",
    "    print(f\"❌ Could not import modules: {e}\")\n",
    "    print(\"💡 Make sure you're running this from the project directory with the Flask app.\")\n",
    "except Exception as e:\n",
    "    print(f\"❌ Error accessing database: {e}\")\n",
    "    print(\"💡 Make sure the Flask app has been run at least once to create the database.\")"
   ]
  },
  {
   "cell_type": "markdown",
   "id": "bdd67af3",
   "metadata": {},
   "source": [
    "## These `%` things are useful\n",
    "Check out [the IPython magics](https://ipython.readthedocs.io/en/stable/interactive/magics.html). It is very useful to learn"
   ]
  },
  {
   "cell_type": "code",
   "execution_count": 36,
   "id": "4af95b5b-239a-4900-93e0-686c9d8f8aff",
   "metadata": {
    "collapsed": false,
    "jupyter": {
     "outputs_hidden": false
    }
   },
   "outputs": [],
   "source": [
    "import os\n",
    "import json\n",
    "folder_contents = !ls --color=never\n",
    "os.environ['folder_contents'] = json.dumps(folder_contents)"
   ]
  },
  {
   "cell_type": "code",
   "execution_count": 37,
   "id": "5e7d9437-f9ac-4d92-a032-5efca305db9b",
   "metadata": {
    "collapsed": false,
    "jupyter": {
     "outputs_hidden": false
    }
   },
   "outputs": [
    {
     "data": {
      "text/plain": [
       "['__pycache__',\n",
       " 'app.py',\n",
       " 'config.py',\n",
       " 'forms.py',\n",
       " 'instance',\n",
       " 'models.py',\n",
       " 'pyproject.toml',\n",
       " 'README.ipynb',\n",
       " 'sayhi.py',\n",
       " 'templates',\n",
       " 'uv.lock']"
      ]
     },
     "execution_count": 37,
     "metadata": {},
     "output_type": "execute_result"
    }
   ],
   "source": [
    "folder_contents"
   ]
  },
  {
   "cell_type": "code",
   "execution_count": 38,
   "id": "3d31ed95-bd96-4fb0-82d4-37d36f8666e1",
   "metadata": {
    "collapsed": false,
    "jupyter": {
     "outputs_hidden": false
    }
   },
   "outputs": [
    {
     "name": "stdout",
     "output_type": "stream",
     "text": [
      "__pycache__\n",
      "app.py\n",
      "config.py\n",
      "forms.py\n",
      "instance\n",
      "models.py\n",
      "pyproject.toml\n",
      "README.ipynb\n",
      "sayhi.py\n",
      "templates\n",
      "uv.lock\n"
     ]
    }
   ],
   "source": [
    "%%ruby\n",
    "require 'json'\n",
    "puts JSON.parse(ENV[\"folder_contents\"])"
   ]
  },
  {
   "cell_type": "code",
   "execution_count": 35,
   "id": "dc4e6f35-958e-41d4-bf21-060069c91a7c",
   "metadata": {
    "collapsed": false,
    "jupyter": {
     "outputs_hidden": false
    }
   },
   "outputs": [
    {
     "data": {
      "application/javascript": "var e = document.createElement('h1')\ne.innerText = 'ahoy there'\nelement.append(e)\n",
      "text/plain": [
       "<IPython.core.display.Javascript object>"
      ]
     },
     "metadata": {},
     "output_type": "display_data"
    }
   ],
   "source": [
    "%%javascript\n",
    "var e = document.createElement('h1')\n",
    "e.innerText = 'ahoy there'\n",
    "element.append(e)"
   ]
  },
  {
   "cell_type": "code",
   "execution_count": 39,
   "id": "3408669c-8f2a-4b12-8cd5-754bdf3e632c",
   "metadata": {
    "collapsed": false,
    "jupyter": {
     "outputs_hidden": false
    }
   },
   "outputs": [
    {
     "data": {
      "application/javascript": "\n    const folderContents = ['__pycache__', 'app.py', 'config.py', 'forms.py', 'instance', 'models.py', 'pyproject.toml', 'README.ipynb', 'sayhi.py', 'templates', 'uv.lock'];\n    console.log(folderContents)\n    const ul = document.createElement('ul');\n    for (const f of folderContents) {\n       const li = document.createElement('li');\n       li.innerText = f;\n       ul.append(li);\n    }\n    element.append(ul);\n",
      "text/plain": [
       "<IPython.core.display.Javascript object>"
      ]
     },
     "execution_count": 39,
     "metadata": {},
     "output_type": "execute_result"
    }
   ],
   "source": [
    "from IPython.display import Javascript\n",
    "\n",
    "# For a simple string or number\n",
    "Javascript(f\"\"\"\n",
    "    const folderContents = {folder_contents};\n",
    "    console.log(folderContents)\n",
    "    const ul = document.createElement('ul');\n",
    "    for (const f of folderContents) {{\n",
    "       const li = document.createElement('li');\n",
    "       li.innerText = f;\n",
    "       ul.append(li);\n",
    "    }}\n",
    "    element.append(ul);\n",
    "\"\"\")\n"
   ]
  },
  {
   "cell_type": "code",
   "execution_count": 40,
   "id": "df514eb4-0c1a-49d0-a323-3075d2a0caff",
   "metadata": {
    "collapsed": false,
    "jupyter": {
     "outputs_hidden": false
    }
   },
   "outputs": [
    {
     "name": "stdout",
     "output_type": "stream",
     "text": [
      "Overwriting sayhi.py\n"
     ]
    }
   ],
   "source": [
    "%%writefile sayhi.py\n",
    "\n",
    "print(\"Hello there\")"
   ]
  },
  {
   "cell_type": "code",
   "execution_count": 41,
   "id": "14d5ae92",
   "metadata": {},
   "outputs": [
    {
     "name": "stdout",
     "output_type": "stream",
     "text": [
      "Hello there\n"
     ]
    }
   ],
   "source": [
    "import sayhi"
   ]
  },
  {
   "cell_type": "code",
   "execution_count": null,
   "id": "75d98e31",
   "metadata": {},
   "outputs": [],
   "source": []
  }
 ],
 "metadata": {
  "kernelspec": {
   "display_name": "Python 3 (ipykernel)",
   "language": "python",
   "name": "python3"
  },
  "language_info": {
   "codemirror_mode": {
    "name": "ipython",
    "version": 3
   },
   "file_extension": ".py",
   "mimetype": "text/x-python",
   "name": "python",
   "nbconvert_exporter": "python",
   "pygments_lexer": "ipython3",
   "version": "3.13.3"
  },
  "name": "README.ipynb"
 },
 "nbformat": 4,
 "nbformat_minor": 5
}
