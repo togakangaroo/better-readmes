{
 "cells": [
  {
   "cell_type": "markdown",
   "id": "eb70a1e8",
   "metadata": {},
   "source": [
    "# Better READMEs with Jupyter Notebooks 🚀\n",
    "\n",
    "This project demonstrates why **README.ipynb** is superior to traditional Markdown READMEs. Jupyter notebooks offer interactive, executable documentation that makes your projects more engaging and informative.\n",
    "\n",
    "## Why README.ipynb > README.md?\n",
    "\n",
    "### 1. **Live Code Execution** 📊\n",
    "Run code examples directly in your README to show real results"
   ]
  },
  {
   "cell_type": "code",
   "execution_count": 1,
   "id": "4baba9b1",
   "metadata": {},
   "outputs": [
    {
     "ename": "ModuleNotFoundError",
     "evalue": "No module named 'main'",
     "output_type": "error",
     "traceback": [
      "\u001b[31m---------------------------------------------------------------------------\u001b[39m",
      "\u001b[31mModuleNotFoundError\u001b[39m                       Traceback (most recent call last)",
      "\u001b[36mCell\u001b[39m\u001b[36m \u001b[39m\u001b[32mIn[1]\u001b[39m\u001b[32m, line 2\u001b[39m\n\u001b[32m      1\u001b[39m \u001b[38;5;66;03m# Let's demonstrate the main function\u001b[39;00m\n\u001b[32m----> \u001b[39m\u001b[32m2\u001b[39m \u001b[38;5;28;01mfrom\u001b[39;00m\u001b[38;5;250m \u001b[39m\u001b[34;01mmain\u001b[39;00m\u001b[38;5;250m \u001b[39m\u001b[38;5;28;01mimport\u001b[39;00m main\n\u001b[32m      4\u001b[39m \u001b[38;5;28mprint\u001b[39m(\u001b[33m\"\u001b[39m\u001b[33mRunning the main function:\u001b[39m\u001b[33m\"\u001b[39m)\n\u001b[32m      5\u001b[39m main()\n",
      "\u001b[31mModuleNotFoundError\u001b[39m: No module named 'main'"
     ]
    }
   ],
   "source": [
    "# Let's demonstrate the main function\n",
    "from main import main\n",
    "\n",
    "print(\"Running the main function:\")\n",
    "main()"
   ]
  },
  {
   "cell_type": "markdown",
   "id": "0087cc51",
   "metadata": {},
   "source": [
    "### 2. **Interactive Visualizations** 📈\n",
    "Create charts, graphs, and visual examples that update automatically"
   ]
  },
  {
   "cell_type": "code",
   "execution_count": null,
   "id": "3e582cd6",
   "metadata": {},
   "outputs": [],
   "source": [
    "# Example: Show project statistics\n",
    "import matplotlib.pyplot as plt\n",
    "import numpy as np\n",
    "\n",
    "# Simulate some project metrics\n",
    "metrics = {\n",
    "    'Code Quality': 95,\n",
    "    'Documentation': 90,\n",
    "    'Test Coverage': 88,\n",
    "    'Performance': 92\n",
    "}\n",
    "\n",
    "fig, ax = plt.subplots(figsize=(10, 6))\n",
    "categories = list(metrics.keys())\n",
    "values = list(metrics.values())\n",
    "\n",
    "bars = ax.bar(categories, values, color=['#FF6B6B', '#4ECDC4', '#45B7D1', '#96CEB4'])\n",
    "ax.set_ylabel('Score (%)')\n",
    "ax.set_title('Project Quality Metrics')\n",
    "ax.set_ylim(0, 100)\n",
    "\n",
    "# Add value labels on bars\n",
    "for bar, value in zip(bars, values):\n",
    "    height = bar.get_height()\n",
    "    ax.text(bar.get_x() + bar.get_width()/2., height + 1,\n",
    "            f'{value}%', ha='center', va='bottom', fontweight='bold')\n",
    "\n",
    "plt.tight_layout()\n",
    "plt.show()"
   ]
  },
  {
   "cell_type": "markdown",
   "id": "74fc0870",
   "metadata": {},
   "source": [
    "### 3. **Real-time Data Examples** 🔄\n",
    "Show live data processing and API responses"
   ]
  },
  {
   "cell_type": "code",
   "execution_count": null,
   "id": "8c80878c",
   "metadata": {},
   "outputs": [],
   "source": [
    "# Example: Show current project info\n",
    "import json\n",
    "from datetime import datetime\n",
    "\n",
    "project_info = {\n",
    "    \"name\": \"better-readmes\",\n",
    "    \"version\": \"0.1.0\",\n",
    "    \"last_updated\": datetime.now().strftime(\"%Y-%m-%d %H:%M:%S\"),\n",
    "    \"python_version\": \"3.13+\",\n",
    "    \"status\": \"Active Development\"\n",
    "}\n",
    "\n",
    "print(\"📋 Current Project Information:\")\n",
    "print(json.dumps(project_info, indent=2))"
   ]
  },
  {
   "cell_type": "markdown",
   "id": "059c9bca",
   "metadata": {},
   "source": [
    "### 4. **Interactive Tutorials** 🎓\n",
    "Step-by-step guides that users can run and modify"
   ]
  },
  {
   "cell_type": "code",
   "execution_count": null,
   "id": "726307f2",
   "metadata": {},
   "outputs": [],
   "source": [
    "# Tutorial: How to use this project\n",
    "print(\"🎯 Quick Start Tutorial\")\n",
    "print(\"=\" * 30)\n",
    "\n",
    "# Step 1: Installation\n",
    "print(\"1️⃣ Installation:\")\n",
    "print(\"   pip install -e .\")\n",
    "print()\n",
    "\n",
    "# Step 2: Basic Usage\n",
    "print(\"2️⃣ Basic Usage:\")\n",
    "print(\"   python main.py\")\n",
    "print()\n",
    "\n",
    "# Step 3: Let's demonstrate\n",
    "print(\"3️⃣ Running the example:\")\n",
    "main()"
   ]
  },
  {
   "cell_type": "markdown",
   "id": "5514e658",
   "metadata": {},
   "source": [
    "### 5. **Dynamic Content Generation** ⚡\n",
    "Automatically generate content based on your codebase"
   ]
  },
  {
   "cell_type": "code",
   "execution_count": null,
   "id": "6bffc2fc",
   "metadata": {},
   "outputs": [],
   "source": [
    "# Auto-generate function documentation\n",
    "import inspect\n",
    "\n",
    "def analyze_functions():\n",
    "    \"\"\"Analyze functions in main.py and generate documentation\"\"\"\n",
    "    import main\n",
    "    \n",
    "    functions = inspect.getmembers(main, inspect.isfunction)\n",
    "    \n",
    "    print(\"🔍 Function Analysis:\")\n",
    "    print(\"=\" * 40)\n",
    "    \n",
    "    for name, func in functions:\n",
    "        if not name.startswith('_'):\n",
    "            print(f\"📝 Function: {name}\")\n",
    "            print(f\"   Docstring: {func.__doc__ or 'No docstring'}\")\n",
    "            print(f\"   Source: {inspect.getsource(func).strip()}\")\n",
    "            print(f\"   Line count: {len(inspect.getsource(func).splitlines())}\")\n",
    "            print()\n",
    "\n",
    "analyze_functions()"
   ]
  },
  {
   "cell_type": "markdown",
   "id": "cacdecc3",
   "metadata": {},
   "source": [
    "### 6. **Rich Media Support** 🎨\n",
    "Embed videos, interactive widgets, and complex visualizations"
   ]
  },
  {
   "cell_type": "code",
   "execution_count": null,
   "id": "801bde66",
   "metadata": {},
   "outputs": [],
   "source": [
    "# Example: Create an interactive widget\n",
    "try:\n",
    "    from ipywidgets import interact, widgets\n",
    "    \n",
    "    def greet(name=\"World\", enthusiasm=5):\n",
    "        exclamation = \"!\" * enthusiasm\n",
    "        return f\"Hello {name}{exclamation}\"\n",
    "    \n",
    "    print(\"🎛️ Interactive Widget Example:\")\n",
    "    print(\"Try changing the values below!\")\n",
    "    \n",
    "    interact(greet, \n",
    "             name=widgets.Text(value=\"World\", description=\"Name:\"),\n",
    "             enthusiasm=widgets.IntSlider(min=1, max=10, value=5, description=\"Enthusiasm:\"))\n",
    "    \n",
    "except ImportError:\n",
    "    print(\"📦 Install ipywidgets for interactive widgets: pip install ipywidgets\")\n",
    "    print(\"💡 This shows how you can include optional interactive features!\")"
   ]
  },
  {
   "cell_type": "markdown",
   "id": "8929d411",
   "metadata": {},
   "source": [
    "### 7. **Version Control Integration** 🔄\n",
    "Track changes in both code and documentation together"
   ]
  },
  {
   "cell_type": "code",
   "execution_count": null,
   "id": "49a45a85",
   "metadata": {},
   "outputs": [],
   "source": [
    "# Show git status and recent changes\n",
    "import subprocess\n",
    "import os\n",
    "\n",
    "def get_git_info():\n",
    "    \"\"\"Get git repository information\"\"\"\n",
    "    try:\n",
    "        # Get current branch\n",
    "        branch = subprocess.check_output(['git', 'branch', '--show-current'], \n",
    "                                       text=True, stderr=subprocess.DEVNULL).strip()\n",
    "        \n",
    "        # Get last commit\n",
    "        last_commit = subprocess.check_output(['git', 'log', '-1', '--oneline'], \n",
    "                                            text=True, stderr=subprocess.DEVNULL).strip()\n",
    "        \n",
    "        print(\"📊 Git Repository Status:\")\n",
    "        print(f\"   Branch: {branch}\")\n",
    "        print(f\"   Last Commit: {last_commit}\")\n",
    "        \n",
    "    except (subprocess.CalledProcessError, FileNotFoundError):\n",
    "        print(\"📁 Not a git repository or git not available\")\n",
    "\n",
    "get_git_info()"
   ]
  },
  {
   "cell_type": "markdown",
   "id": "86a39a94",
   "metadata": {},
   "source": [
    "## 🎯 Key Advantages Summary\n",
    "\n",
    "| Feature | README.md | README.ipynb |\n",
    "|---------|-----------|--------------|\n",
    "| **Code Execution** | ❌ Static | ✅ Interactive |\n",
    "| **Visualizations** | ❌ Static images | ✅ Dynamic charts |\n",
    "| **Data Examples** | ❌ Outdated | ✅ Live data |\n",
    "| **Tutorials** | ❌ Copy-paste | ✅ Run in place |\n",
    "| **Auto-generation** | ❌ Manual | ✅ Programmatic |\n",
    "| **Rich Media** | ❌ Limited | ✅ Full support |\n",
    "| **Version Control** | ✅ Good | ✅ Better (code+docs) |\n",
    "\n",
    "## 🚀 Getting Started\n",
    "\n",
    "1. **Install Jupyter**: `pip install jupyter`\n",
    "2. **Open this notebook**: `jupyter notebook README.ipynb`\n",
    "3. **Run cells**: Execute each cell to see live examples\n",
    "4. **Modify and experiment**: Change values and see immediate results\n",
    "\n",
    "## 📝 Best Practices\n",
    "\n",
    "- Keep code cells focused and well-documented\n",
    "- Use markdown cells for explanations\n",
    "- Include error handling in examples\n",
    "- Make outputs reproducible\n",
    "- Version control the notebook with your code\n",
    "\n",
    "---\n",
    "\n",
    "*This README.ipynb demonstrates the power of interactive documentation. Every time you open this file, you get fresh, up-to-date information about your project!* ✨"
   ]
  },
  {
   "cell_type": "markdown",
   "id": "live-todo-data",
   "metadata": {},
   "source": [
    "## 📋 Live Todo Data\n",
    "\n",
    "Here's a live view of the latest todo items from our application database:"
   ]
  },
  {
   "cell_type": "code",
   "execution_count": 1,
   "id": "todo-data-display",
   "metadata": {},
   "outputs": [
    {
     "name": "stdout",
     "output_type": "stream",
     "text": [
      "🔥 Latest 20 Todo Items:\n",
      "==================================================\n",
      " 1. ⏳ it should be possible to change status without clicking into a list item\n",
      "    Status: TODO\n",
      "    List: build out my app\n",
      "    Created: 2025-07-25 03:11:48\n",
      "\n",
      " 2. ⏳ we don't need a view end edit mode for the list. lets combine them\n",
      "    Status: TODO\n",
      "    List: build out my app\n",
      "    Created: 2025-07-25 03:10:57\n",
      "\n",
      " 3. ⏳ create an overview of item statuses on the home page that aggregates across all lists\n",
      "    Status: TODO\n",
      "    List: build out my app\n",
      "    Created: 2025-07-25 03:09:47\n",
      "\n"
     ]
    }
   ],
   "source": [
    "# Import our Flask app and models to access the database\n",
    "import sys\n",
    "import os\n",
    "\n",
    "# Add current directory to path so we can import our modules\n",
    "sys.path.insert(0, os.getcwd())\n",
    "\n",
    "try:\n",
    "    from app import app\n",
    "    from models import TodoItem, TodoList\n",
    "    \n",
    "    # Create application context to access the database\n",
    "    with app.app_context():\n",
    "        # Get the latest 20 todo items ordered by creation date (newest first)\n",
    "        latest_items = TodoItem.query.order_by(TodoItem.created_at.desc()).limit(20).all()\n",
    "        \n",
    "        if latest_items:\n",
    "            print(\"🔥 Latest 20 Todo Items:\")\n",
    "            print(\"=\" * 50)\n",
    "            \n",
    "            for i, item in enumerate(latest_items, 1):\n",
    "                # Get status emoji\n",
    "                status_emoji = {\n",
    "                    'TODO': '⏳',\n",
    "                    'IN_PROGRESS': '🔄', \n",
    "                    'DONE': '✅'\n",
    "                }.get(item.status, '❓')\n",
    "                \n",
    "                print(f\"{i:2d}. {status_emoji} {item.title}\")\n",
    "                print(f\"    Status: {item.status}\")\n",
    "                print(f\"    List: {item.todo_list.name}\")\n",
    "                print(f\"    Created: {item.created_at.strftime('%Y-%m-%d %H:%M:%S')}\")\n",
    "                print()\n",
    "        else:\n",
    "            print(\"📝 No todo items found in the database.\")\n",
    "            print(\"💡 Run the Flask app and add some items to see them here!\")\n",
    "            \n",
    "except ImportError as e:\n",
    "    print(f\"❌ Could not import modules: {e}\")\n",
    "    print(\"💡 Make sure you're running this from the project directory with the Flask app.\")\n",
    "except Exception as e:\n",
    "    print(f\"❌ Error accessing database: {e}\")\n",
    "    print(\"💡 Make sure the Flask app has been run at least once to create the database.\")"
   ]
  },
  {
   "cell_type": "code",
   "execution_count": 29,
   "id": "dc4e6f35-958e-41d4-bf21-060069c91a7c",
   "metadata": {},
   "outputs": [
    {
     "data": {
      "application/javascript": [
       "var e = document.createElement('h1')\n",
       "e.innerText = 'ahoy there'\n",
       "element.append(e)\n"
      ],
      "text/plain": [
       "<IPython.core.display.Javascript object>"
      ]
     },
     "metadata": {},
     "output_type": "display_data"
    }
   ],
   "source": [
    "%%javascript\n",
    "var e = document.createElement('h1')\n",
    "e.innerText = 'ahoy there'\n",
    "element.append(e)"
   ]
  },
  {
   "cell_type": "code",
   "execution_count": 61,
   "id": "4af95b5b-239a-4900-93e0-686c9d8f8aff",
   "metadata": {},
   "outputs": [],
   "source": [
    "import os\n",
    "import json\n",
    "folder_contents = !ls --color=never\n",
    "os.environ['folder_contents'] = json.dumps(folder_contents)"
   ]
  },
  {
   "cell_type": "code",
   "execution_count": 62,
   "id": "5e7d9437-f9ac-4d92-a032-5efca305db9b",
   "metadata": {},
   "outputs": [
    {
     "data": {
      "text/plain": [
       "['__pycache__',\n",
       " 'app.py',\n",
       " 'config.py',\n",
       " 'forms.py',\n",
       " 'instance',\n",
       " 'models.py',\n",
       " 'pyproject.toml',\n",
       " 'README.ipynb',\n",
       " 'templates',\n",
       " 'test_log.txt',\n",
       " 'uv.lock']"
      ]
     },
     "execution_count": 62,
     "metadata": {},
     "output_type": "execute_result"
    }
   ],
   "source": [
    "folder_contents"
   ]
  },
  {
   "cell_type": "code",
   "execution_count": 63,
   "id": "3d31ed95-bd96-4fb0-82d4-37d36f8666e1",
   "metadata": {},
   "outputs": [
    {
     "name": "stdout",
     "output_type": "stream",
     "text": [
      "__pycache__\n",
      "app.py\n",
      "config.py\n",
      "forms.py\n",
      "instance\n",
      "models.py\n",
      "pyproject.toml\n",
      "README.ipynb\n",
      "templates\n",
      "test_log.txt\n",
      "uv.lock\n"
     ]
    }
   ],
   "source": [
    "%%ruby\n",
    "require 'json'\n",
    "puts JSON.parse(ENV[\"folder_contents\"])"
   ]
  },
  {
   "cell_type": "code",
   "execution_count": 65,
   "id": "3408669c-8f2a-4b12-8cd5-754bdf3e632c",
   "metadata": {},
   "outputs": [
    {
     "data": {
      "application/javascript": [
       "\n",
       "    const folderContents = ['__pycache__', 'app.py', 'config.py', 'forms.py', 'instance', 'models.py', 'pyproject.toml', 'README.ipynb', 'templates', 'test_log.txt', 'uv.lock'];\n",
       "    console.log(folderContents)\n",
       "    const ul = document.createElement('ul');\n",
       "    for (const f of folderContents) {\n",
       "       const li = document.createElement('li');\n",
       "       li.innerText = f;\n",
       "       ul.append(li);\n",
       "    }\n",
       "    element.append(ul);\n"
      ],
      "text/plain": [
       "<IPython.core.display.Javascript object>"
      ]
     },
     "execution_count": 65,
     "metadata": {},
     "output_type": "execute_result"
    }
   ],
   "source": [
    "from IPython.display import Javascript\n",
    "\n",
    "# For a simple string or number\n",
    "Javascript(f\"\"\"\n",
    "    const folderContents = {folder_contents};\n",
    "    console.log(folderContents)\n",
    "    const ul = document.createElement('ul');\n",
    "    for (const f of folderContents) {{\n",
    "       const li = document.createElement('li');\n",
    "       li.innerText = f;\n",
    "       ul.append(li);\n",
    "    }}\n",
    "    element.append(ul);\n",
    "\"\"\")\n"
   ]
  }
 ],
 "metadata": {
  "kernelspec": {
   "display_name": "Python 3 (ipykernel)",
   "language": "python",
   "name": "python3"
  },
  "language_info": {
   "codemirror_mode": {
    "name": "ipython",
    "version": 3
   },
   "file_extension": ".py",
   "mimetype": "text/x-python",
   "name": "python",
   "nbconvert_exporter": "python",
   "pygments_lexer": "ipython3",
   "version": "3.13.3"
  }
 },
 "nbformat": 4,
 "nbformat_minor": 5
}
