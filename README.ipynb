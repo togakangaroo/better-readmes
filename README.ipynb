{
 "cells": [
  {
   "cell_type": "markdown",
   "id": "eb70a1e8",
   "metadata": {
    "collapsed": false,
    "jupyter": {
     "outputs_hidden": false
    }
   },
   "source": [
    "# Better READMEs with Jupyter Notebooks \n",
    "\n",
    "I'm going to make the pitch that README.ipynb files are better.\n",
    "\n",
    "So why?"
   ]
  },
  {
   "cell_type": "markdown",
   "id": "15978c33",
   "metadata": {},
   "source": [
    "## You can still keep your markdown\n",
    "\n",
    "Look, we're not giving up markdown totally works still. **For real**\n",
    "\n",
    "You can [link](https://www.youtube.com/watch?v=dQw4w9WgXcQ)\n",
    "\n",
    "- you \n",
    "- can\n",
    "- list\n",
    "\n",
    "It's all still here.\n",
    "\n",
    "You can just do other stuff."
   ]
  },
  {
   "cell_type": "markdown",
   "id": "74fc0870",
   "metadata": {
    "collapsed": false,
    "jupyter": {
     "outputs_hidden": false
    }
   },
   "source": [
    "## You can run code. \n",
    "\n",
    "This project uses uv. Which you [can install](https://docs.astral.sh/uv/getting-started/installation/#standalone-installer)"
   ]
  },
  {
   "cell_type": "markdown",
   "id": "c101ab65",
   "metadata": {},
   "source": [
    "### On a Mac"
   ]
  },
  {
   "cell_type": "code",
   "execution_count": null,
   "id": "5715d809",
   "metadata": {},
   "outputs": [],
   "source": [
    "!brew install uv"
   ]
  },
  {
   "cell_type": "markdown",
   "id": "561604e4",
   "metadata": {},
   "source": [
    "### On Linux"
   ]
  },
  {
   "cell_type": "code",
   "execution_count": null,
   "id": "1252a82e",
   "metadata": {},
   "outputs": [],
   "source": [
    "!pipx install uv"
   ]
  },
  {
   "cell_type": "markdown",
   "id": "69f7b721",
   "metadata": {},
   "source": [
    "### On Windows"
   ]
  },
  {
   "cell_type": "markdown",
   "id": "e242b8e1",
   "metadata": {},
   "source": [
    "*probably*"
   ]
  },
  {
   "cell_type": "markdown",
   "id": "5376f60d",
   "metadata": {},
   "source": [
    "###\n",
    "\n",
    "Avoid the copy-paste-into-the-shell dance\n"
   ]
  },
  {
   "cell_type": "markdown",
   "id": "22365b6a",
   "metadata": {},
   "source": [
    "\n",
    "## Code between languages\n",
    "\n",
    "It's a neat trick that you can pass data from shell to python"
   ]
  },
  {
   "cell_type": "code",
   "execution_count": 51,
   "id": "1c2fbf01",
   "metadata": {},
   "outputs": [
    {
     "data": {
      "text/plain": [
       "['__pycache__',\n",
       " '.git',\n",
       " '.gitignore',\n",
       " 'app.py',\n",
       " 'config.py',\n",
       " 'forms.py',\n",
       " 'instance',\n",
       " 'models.py',\n",
       " 'pyproject.toml',\n",
       " 'README.ipynb',\n",
       " 'sayhi.py',\n",
       " 'templates',\n",
       " 'uv.lock']"
      ]
     },
     "execution_count": 51,
     "metadata": {},
     "output_type": "execute_result"
    }
   ],
   "source": [
    "local_files = !ls -a --color=never\n",
    "[f for f in local_files if not f.startswith('.') or f.startswith('.git')]"
   ]
  },
  {
   "cell_type": "markdown",
   "id": "3fb1716b",
   "metadata": {},
   "source": [
    "## Use secrets\n",
    "Query the use for secrets without putting them into the notebook, and set them into environment variales"
   ]
  },
  {
   "cell_type": "code",
   "execution_count": 54,
   "id": "61f6274c",
   "metadata": {},
   "outputs": [],
   "source": [
    "aws_profile = input(\"name of aws profile to use: \") # Let's pretend this is a secret, ok? I don't want to set up AWS keys."
   ]
  },
  {
   "cell_type": "markdown",
   "id": "c40636fc",
   "metadata": {},
   "source": [
    "That value is then available in shell scripts"
   ]
  },
  {
   "cell_type": "code",
   "execution_count": 56,
   "id": "64425a0a",
   "metadata": {
    "vscode": {
     "languageId": "shellscript"
    }
   },
   "outputs": [
    {
     "name": "stderr",
     "output_type": "stream",
     "text": [
      "6025.03s - pydevd: Sending message related to process being replaced timed-out after 5 seconds\n"
     ]
    },
    {
     "name": "stdout",
     "output_type": "stream",
     "text": [
      "2023-03-30 09:52:05 deploy-staging\n",
      "2025-06-06 20:33:00 just-my-links--application-bucket--dev\n",
      "2023-03-29 16:27:49 turtles-music\n"
     ]
    }
   ],
   "source": [
    "!aws s3 ls --profile $aws_profile | tail -n +2"
   ]
  },
  {
   "cell_type": "markdown",
   "id": "316514b8",
   "metadata": {},
   "source": [
    "or set the secret as an environment variable. Pass data back to python!"
   ]
  },
  {
   "cell_type": "code",
   "execution_count": 63,
   "id": "26994120",
   "metadata": {},
   "outputs": [
    {
     "name": "stdout",
     "output_type": "stream",
     "text": [
      "We have values: dict_keys(['UserId', 'Account', 'Arn'])\n",
      "First two f Account Id: 14\n"
     ]
    }
   ],
   "source": [
    "import os\n",
    "os.environ[\"AWS_PROFILE\"] = aws_profile\n",
    "about_me = !aws sts get-caller-identity\n",
    "about_me = json.loads(''.join(about_me))\n",
    "print(f\"We have values: {about_me.keys()}\")\n",
    "print(f\"First two f Account Id: {about_me['Account'][0:2]}\")"
   ]
  },
  {
   "cell_type": "code",
   "execution_count": 31,
   "id": "8c80878c",
   "metadata": {
    "collapsed": false,
    "jupyter": {
     "outputs_hidden": false
    }
   },
   "outputs": [
    {
     "name": "stdout",
     "output_type": "stream",
     "text": [
      "📋 Current Project Information:\n",
      "{\n",
      "  \"name\": \"better-readmes\",\n",
      "  \"version\": \"0.1.0\",\n",
      "  \"last_updated\": \"2025-07-25 21:12:40\",\n",
      "  \"python_version\": \"3.13+\",\n",
      "  \"status\": \"Active Development\"\n",
      "}\n"
     ]
    }
   ],
   "source": [
    "# Example: Show current project info\n",
    "import json\n",
    "from datetime import datetime\n",
    "\n",
    "project_info = {\n",
    "    \"name\": \"better-readmes\",\n",
    "    \"version\": \"0.1.0\",\n",
    "    \"last_updated\": datetime.now().strftime(\"%Y-%m-%d %H:%M:%S\"),\n",
    "    \"python_version\": \"3.13+\",\n",
    "    \"status\": \"Active Development\"\n",
    "}\n",
    "\n",
    "print(\"📋 Current Project Information:\")\n",
    "print(json.dumps(project_info, indent=2))"
   ]
  },
  {
   "cell_type": "markdown",
   "id": "059c9bca",
   "metadata": {
    "collapsed": false,
    "jupyter": {
     "outputs_hidden": false
    }
   },
   "source": [
    "### 4. **Interactive Tutorials** 🎓\n",
    "Step-by-step guides that users can run and modify"
   ]
  },
  {
   "cell_type": "code",
   "execution_count": 32,
   "id": "726307f2",
   "metadata": {
    "collapsed": false,
    "jupyter": {
     "outputs_hidden": false
    }
   },
   "outputs": [
    {
     "name": "stdout",
     "output_type": "stream",
     "text": [
      "🎯 Quick Start Tutorial\n",
      "==============================\n",
      "1️⃣ Installation:\n",
      "   pip install -e .\n",
      "\n",
      "2️⃣ Basic Usage:\n",
      "   python main.py\n",
      "\n"
     ]
    }
   ],
   "source": [
    "# Tutorial: How to use this project\n",
    "print(\"🎯 Quick Start Tutorial\")\n",
    "print(\"=\" * 30)\n",
    "\n",
    "# Step 1: Installation\n",
    "print(\"1️⃣ Installation:\")\n",
    "print(\"   pip install -e .\")\n",
    "print()\n",
    "\n",
    "# Step 2: Basic Usage\n",
    "print(\"2️⃣ Basic Usage:\")\n",
    "print(\"   python main.py\")\n",
    "print()\n",
    "\n"
   ]
  },
  {
   "cell_type": "markdown",
   "id": "8929d411",
   "metadata": {
    "collapsed": false,
    "jupyter": {
     "outputs_hidden": false
    }
   },
   "source": [
    "### 7. **Version Control Integration** 🔄\n",
    "Track changes in both code and documentation together"
   ]
  },
  {
   "cell_type": "code",
   "execution_count": 33,
   "id": "49a45a85",
   "metadata": {
    "collapsed": false,
    "jupyter": {
     "outputs_hidden": false
    }
   },
   "outputs": [
    {
     "name": "stdout",
     "output_type": "stream",
     "text": [
      "📊 Git Repository Status:\n",
      "   Branch: main\n",
      "   Last Commit: 9beee1d cross-language investigation in ipython\n"
     ]
    }
   ],
   "source": [
    "# Show git status and recent changes\n",
    "import subprocess\n",
    "import os\n",
    "\n",
    "def get_git_info():\n",
    "    \"\"\"Get git repository information\"\"\"\n",
    "    try:\n",
    "        # Get current branch\n",
    "        branch = subprocess.check_output(['git', 'branch', '--show-current'], \n",
    "                                       text=True, stderr=subprocess.DEVNULL).strip()\n",
    "        \n",
    "        # Get last commit\n",
    "        last_commit = subprocess.check_output(['git', 'log', '-1', '--oneline'], \n",
    "                                            text=True, stderr=subprocess.DEVNULL).strip()\n",
    "        \n",
    "        print(\"📊 Git Repository Status:\")\n",
    "        print(f\"   Branch: {branch}\")\n",
    "        print(f\"   Last Commit: {last_commit}\")\n",
    "        \n",
    "    except (subprocess.CalledProcessError, FileNotFoundError):\n",
    "        print(\"📁 Not a git repository or git not available\")\n",
    "\n",
    "get_git_info()"
   ]
  },
  {
   "cell_type": "markdown",
   "id": "86a39a94",
   "metadata": {
    "collapsed": false,
    "jupyter": {
     "outputs_hidden": false
    }
   },
   "source": [
    "## 🎯 Key Advantages Summary\n",
    "\n",
    "| Feature | README.md | README.ipynb |\n",
    "|---------|-----------|--------------|\n",
    "| **Code Execution** | ❌ Static | ✅ Interactive |\n",
    "| **Visualizations** | ❌ Static images | ✅ Dynamic charts |\n",
    "| **Data Examples** | ❌ Outdated | ✅ Live data |\n",
    "| **Tutorials** | ❌ Copy-paste | ✅ Run in place |\n",
    "| **Auto-generation** | ❌ Manual | ✅ Programmatic |\n",
    "| **Rich Media** | ❌ Limited | ✅ Full support |\n",
    "| **Version Control** | ✅ Good | ✅ Better (code+docs) |\n",
    "\n",
    "## 🚀 Getting Started\n",
    "\n",
    "1. **Install Jupyter**: `pip install jupyter`\n",
    "2. **Open this notebook**: `jupyter notebook README.ipynb`\n",
    "3. **Run cells**: Execute each cell to see live examples\n",
    "4. **Modify and experiment**: Change values and see immediate results\n",
    "\n",
    "## 📝 Best Practices\n",
    "\n",
    "- Keep code cells focused and well-documented\n",
    "- Use markdown cells for explanations\n",
    "- Include error handling in examples\n",
    "- Make outputs reproducible\n",
    "- Version control the notebook with your code\n",
    "\n",
    "---\n",
    "\n",
    "*This README.ipynb demonstrates the power of interactive documentation. Every time you open this file, you get fresh, up-to-date information about your project!* ✨"
   ]
  },
  {
   "cell_type": "markdown",
   "id": "live-todo-data",
   "metadata": {
    "collapsed": false,
    "jupyter": {
     "outputs_hidden": false
    }
   },
   "source": [
    "## 📋 Live Todo Data\n",
    "\n",
    "Here's a live view of the latest todo items from our application database:"
   ]
  },
  {
   "cell_type": "code",
   "execution_count": 34,
   "id": "todo-data-display",
   "metadata": {
    "collapsed": false,
    "jupyter": {
     "outputs_hidden": false
    }
   },
   "outputs": [
    {
     "name": "stdout",
     "output_type": "stream",
     "text": [
      "🔥 Latest 20 Todo Items:\n",
      "==================================================\n",
      " 1. ✅ it should be possible to change status without clicking into a list item\n",
      "    Status: DONE\n",
      "    List: build out my app\n",
      "    Created: 2025-07-25 03:11:48\n",
      "\n",
      " 2. 🔄 we don't need a view end edit mode for the list. lets combine them\n",
      "    Status: IN_PROGRESS\n",
      "    List: build out my app\n",
      "    Created: 2025-07-25 03:10:57\n",
      "\n",
      " 3. ✅ create an overview of item statuses on the home page that aggregates across all lists\n",
      "    Status: DONE\n",
      "    List: build out my app\n",
      "    Created: 2025-07-25 03:09:47\n",
      "\n"
     ]
    }
   ],
   "source": [
    "# Import our Flask app and models to access the database\n",
    "import sys\n",
    "import os\n",
    "\n",
    "# Add current directory to path so we can import our modules\n",
    "sys.path.insert(0, os.getcwd())\n",
    "\n",
    "try:\n",
    "    from app import app\n",
    "    from models import TodoItem, TodoList\n",
    "    \n",
    "    # Create application context to access the database\n",
    "    with app.app_context():\n",
    "        # Get the latest 20 todo items ordered by creation date (newest first)\n",
    "        latest_items = TodoItem.query.order_by(TodoItem.created_at.desc()).limit(20).all()\n",
    "        \n",
    "        if latest_items:\n",
    "            print(\"🔥 Latest 20 Todo Items:\")\n",
    "            print(\"=\" * 50)\n",
    "            \n",
    "            for i, item in enumerate(latest_items, 1):\n",
    "                # Get status emoji\n",
    "                status_emoji = {\n",
    "                    'TODO': '⏳',\n",
    "                    'IN_PROGRESS': '🔄', \n",
    "                    'DONE': '✅'\n",
    "                }.get(item.status, '❓')\n",
    "                \n",
    "                print(f\"{i:2d}. {status_emoji} {item.title}\")\n",
    "                print(f\"    Status: {item.status}\")\n",
    "                print(f\"    List: {item.todo_list.name}\")\n",
    "                print(f\"    Created: {item.created_at.strftime('%Y-%m-%d %H:%M:%S')}\")\n",
    "                print()\n",
    "        else:\n",
    "            print(\"📝 No todo items found in the database.\")\n",
    "            print(\"💡 Run the Flask app and add some items to see them here!\")\n",
    "            \n",
    "except ImportError as e:\n",
    "    print(f\"❌ Could not import modules: {e}\")\n",
    "    print(\"💡 Make sure you're running this from the project directory with the Flask app.\")\n",
    "except Exception as e:\n",
    "    print(f\"❌ Error accessing database: {e}\")\n",
    "    print(\"💡 Make sure the Flask app has been run at least once to create the database.\")"
   ]
  },
  {
   "cell_type": "code",
   "execution_count": 35,
   "id": "dc4e6f35-958e-41d4-bf21-060069c91a7c",
   "metadata": {
    "collapsed": false,
    "jupyter": {
     "outputs_hidden": false
    }
   },
   "outputs": [
    {
     "data": {
      "application/javascript": "var e = document.createElement('h1')\ne.innerText = 'ahoy there'\nelement.append(e)\n",
      "text/plain": [
       "<IPython.core.display.Javascript object>"
      ]
     },
     "metadata": {},
     "output_type": "display_data"
    }
   ],
   "source": [
    "%%javascript\n",
    "var e = document.createElement('h1')\n",
    "e.innerText = 'ahoy there'\n",
    "element.append(e)"
   ]
  },
  {
   "cell_type": "code",
   "execution_count": 36,
   "id": "4af95b5b-239a-4900-93e0-686c9d8f8aff",
   "metadata": {
    "collapsed": false,
    "jupyter": {
     "outputs_hidden": false
    }
   },
   "outputs": [],
   "source": [
    "import os\n",
    "import json\n",
    "folder_contents = !ls --color=never\n",
    "os.environ['folder_contents'] = json.dumps(folder_contents)"
   ]
  },
  {
   "cell_type": "code",
   "execution_count": 37,
   "id": "5e7d9437-f9ac-4d92-a032-5efca305db9b",
   "metadata": {
    "collapsed": false,
    "jupyter": {
     "outputs_hidden": false
    }
   },
   "outputs": [
    {
     "data": {
      "text/plain": [
       "['__pycache__',\n",
       " 'app.py',\n",
       " 'config.py',\n",
       " 'forms.py',\n",
       " 'instance',\n",
       " 'models.py',\n",
       " 'pyproject.toml',\n",
       " 'README.ipynb',\n",
       " 'sayhi.py',\n",
       " 'templates',\n",
       " 'uv.lock']"
      ]
     },
     "execution_count": 37,
     "metadata": {},
     "output_type": "execute_result"
    }
   ],
   "source": [
    "folder_contents"
   ]
  },
  {
   "cell_type": "code",
   "execution_count": 38,
   "id": "3d31ed95-bd96-4fb0-82d4-37d36f8666e1",
   "metadata": {
    "collapsed": false,
    "jupyter": {
     "outputs_hidden": false
    }
   },
   "outputs": [
    {
     "name": "stdout",
     "output_type": "stream",
     "text": [
      "__pycache__\n",
      "app.py\n",
      "config.py\n",
      "forms.py\n",
      "instance\n",
      "models.py\n",
      "pyproject.toml\n",
      "README.ipynb\n",
      "sayhi.py\n",
      "templates\n",
      "uv.lock\n"
     ]
    }
   ],
   "source": [
    "%%ruby\n",
    "require 'json'\n",
    "puts JSON.parse(ENV[\"folder_contents\"])"
   ]
  },
  {
   "cell_type": "code",
   "execution_count": 39,
   "id": "3408669c-8f2a-4b12-8cd5-754bdf3e632c",
   "metadata": {
    "collapsed": false,
    "jupyter": {
     "outputs_hidden": false
    }
   },
   "outputs": [
    {
     "data": {
      "application/javascript": "\n    const folderContents = ['__pycache__', 'app.py', 'config.py', 'forms.py', 'instance', 'models.py', 'pyproject.toml', 'README.ipynb', 'sayhi.py', 'templates', 'uv.lock'];\n    console.log(folderContents)\n    const ul = document.createElement('ul');\n    for (const f of folderContents) {\n       const li = document.createElement('li');\n       li.innerText = f;\n       ul.append(li);\n    }\n    element.append(ul);\n",
      "text/plain": [
       "<IPython.core.display.Javascript object>"
      ]
     },
     "execution_count": 39,
     "metadata": {},
     "output_type": "execute_result"
    }
   ],
   "source": [
    "from IPython.display import Javascript\n",
    "\n",
    "# For a simple string or number\n",
    "Javascript(f\"\"\"\n",
    "    const folderContents = {folder_contents};\n",
    "    console.log(folderContents)\n",
    "    const ul = document.createElement('ul');\n",
    "    for (const f of folderContents) {{\n",
    "       const li = document.createElement('li');\n",
    "       li.innerText = f;\n",
    "       ul.append(li);\n",
    "    }}\n",
    "    element.append(ul);\n",
    "\"\"\")\n"
   ]
  },
  {
   "cell_type": "code",
   "execution_count": 40,
   "id": "df514eb4-0c1a-49d0-a323-3075d2a0caff",
   "metadata": {
    "collapsed": false,
    "jupyter": {
     "outputs_hidden": false
    }
   },
   "outputs": [
    {
     "name": "stdout",
     "output_type": "stream",
     "text": [
      "Overwriting sayhi.py\n"
     ]
    }
   ],
   "source": [
    "%%writefile sayhi.py\n",
    "\n",
    "print(\"Hello there\")"
   ]
  },
  {
   "cell_type": "code",
   "execution_count": 41,
   "id": "14d5ae92",
   "metadata": {},
   "outputs": [
    {
     "name": "stdout",
     "output_type": "stream",
     "text": [
      "Hello there\n"
     ]
    }
   ],
   "source": [
    "import sayhi"
   ]
  },
  {
   "cell_type": "code",
   "execution_count": null,
   "id": "75d98e31",
   "metadata": {},
   "outputs": [],
   "source": []
  }
 ],
 "metadata": {
  "kernelspec": {
   "display_name": "Python 3 (ipykernel)",
   "language": "python",
   "name": "python3"
  },
  "language_info": {
   "codemirror_mode": {
    "name": "ipython",
    "version": 3
   },
   "file_extension": ".py",
   "mimetype": "text/x-python",
   "name": "python",
   "nbconvert_exporter": "python",
   "pygments_lexer": "ipython3",
   "version": "3.13.3"
  },
  "name": "README.ipynb"
 },
 "nbformat": 4,
 "nbformat_minor": 5
}
